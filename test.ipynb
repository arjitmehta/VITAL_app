{
 "cells": [
  {
   "cell_type": "code",
   "execution_count": 22,
   "metadata": {},
   "outputs": [],
   "source": [
    "import cv2"
   ]
  },
  {
   "cell_type": "code",
   "execution_count": 19,
   "metadata": {},
   "outputs": [
    {
     "ename": "NameError",
     "evalue": "name 'V' is not defined",
     "output_type": "error",
     "traceback": [
      "\u001b[0;31m---------------------------------------------------------------------------\u001b[0m",
      "\u001b[0;31mNameError\u001b[0m                                 Traceback (most recent call last)",
      "Cell \u001b[0;32mIn[19], line 1\u001b[0m\n\u001b[0;32m----> 1\u001b[0m cv2 \u001b[38;5;241m-\u001b[39m\u001b[43mV\u001b[49m\n",
      "\u001b[0;31mNameError\u001b[0m: name 'V' is not defined"
     ]
    }
   ],
   "source": [
    "cv2 -V"
   ]
  },
  {
   "cell_type": "code",
   "execution_count": 21,
   "metadata": {},
   "outputs": [
    {
     "ename": "NameError",
     "evalue": "name 'numpy' is not defined",
     "output_type": "error",
     "traceback": [
      "\u001b[0;31m---------------------------------------------------------------------------\u001b[0m",
      "\u001b[0;31mNameError\u001b[0m                                 Traceback (most recent call last)",
      "Cell \u001b[0;32mIn[21], line 1\u001b[0m\n\u001b[0;32m----> 1\u001b[0m \u001b[43mnumpy\u001b[49m \u001b[38;5;241m-\u001b[39mV\n",
      "\u001b[0;31mNameError\u001b[0m: name 'numpy' is not defined"
     ]
    }
   ],
   "source": [
    "numpy -V"
   ]
  },
  {
   "cell_type": "code",
   "execution_count": 26,
   "metadata": {},
   "outputs": [
    {
     "name": "stdout",
     "output_type": "stream",
     "text": [
      "Defaulting to user installation because normal site-packages is not writeable\n",
      "Collecting mediapipe==0.9.3.0\n",
      "  Downloading mediapipe-0.9.3.0-cp39-cp39-macosx_12_0_universal2.whl.metadata (21 kB)\n",
      "Requirement already satisfied: absl-py in /Users/enumeracy/Library/Python/3.9/lib/python/site-packages (from mediapipe==0.9.3.0) (2.1.0)\n",
      "Requirement already satisfied: attrs>=19.1.0 in /Users/enumeracy/Library/Python/3.9/lib/python/site-packages (from mediapipe==0.9.3.0) (23.2.0)\n",
      "Requirement already satisfied: flatbuffers>=2.0 in /Users/enumeracy/Library/Python/3.9/lib/python/site-packages (from mediapipe==0.9.3.0) (24.3.25)\n",
      "Requirement already satisfied: matplotlib in /Users/enumeracy/Library/Python/3.9/lib/python/site-packages (from mediapipe==0.9.3.0) (3.8.4)\n",
      "Requirement already satisfied: numpy in /Users/enumeracy/Library/Python/3.9/lib/python/site-packages (from mediapipe==0.9.3.0) (1.26.4)\n",
      "Requirement already satisfied: opencv-contrib-python in /Users/enumeracy/Library/Python/3.9/lib/python/site-packages (from mediapipe==0.9.3.0) (4.9.0.80)\n",
      "Requirement already satisfied: protobuf<4,>=3.11 in /Users/enumeracy/Library/Python/3.9/lib/python/site-packages (from mediapipe==0.9.3.0) (3.20.3)\n",
      "Requirement already satisfied: sounddevice>=0.4.4 in /Users/enumeracy/Library/Python/3.9/lib/python/site-packages (from mediapipe==0.9.3.0) (0.4.6)\n",
      "Requirement already satisfied: CFFI>=1.0 in /Users/enumeracy/Library/Python/3.9/lib/python/site-packages (from sounddevice>=0.4.4->mediapipe==0.9.3.0) (1.16.0)\n",
      "Requirement already satisfied: contourpy>=1.0.1 in /Users/enumeracy/Library/Python/3.9/lib/python/site-packages (from matplotlib->mediapipe==0.9.3.0) (1.2.1)\n",
      "Requirement already satisfied: cycler>=0.10 in /Users/enumeracy/Library/Python/3.9/lib/python/site-packages (from matplotlib->mediapipe==0.9.3.0) (0.12.1)\n",
      "Requirement already satisfied: fonttools>=4.22.0 in /Users/enumeracy/Library/Python/3.9/lib/python/site-packages (from matplotlib->mediapipe==0.9.3.0) (4.51.0)\n",
      "Requirement already satisfied: kiwisolver>=1.3.1 in /Users/enumeracy/Library/Python/3.9/lib/python/site-packages (from matplotlib->mediapipe==0.9.3.0) (1.4.5)\n",
      "Requirement already satisfied: packaging>=20.0 in /Users/enumeracy/Library/Python/3.9/lib/python/site-packages (from matplotlib->mediapipe==0.9.3.0) (24.0)\n",
      "Requirement already satisfied: pillow>=8 in /Users/enumeracy/Library/Python/3.9/lib/python/site-packages (from matplotlib->mediapipe==0.9.3.0) (10.3.0)\n",
      "Requirement already satisfied: pyparsing>=2.3.1 in /Users/enumeracy/Library/Python/3.9/lib/python/site-packages (from matplotlib->mediapipe==0.9.3.0) (3.1.2)\n",
      "Requirement already satisfied: python-dateutil>=2.7 in /Users/enumeracy/Library/Python/3.9/lib/python/site-packages (from matplotlib->mediapipe==0.9.3.0) (2.9.0.post0)\n",
      "Requirement already satisfied: importlib-resources>=3.2.0 in /Users/enumeracy/Library/Python/3.9/lib/python/site-packages (from matplotlib->mediapipe==0.9.3.0) (6.4.0)\n",
      "Requirement already satisfied: pycparser in /Users/enumeracy/Library/Python/3.9/lib/python/site-packages (from CFFI>=1.0->sounddevice>=0.4.4->mediapipe==0.9.3.0) (2.22)\n",
      "Requirement already satisfied: zipp>=3.1.0 in /Users/enumeracy/Library/Python/3.9/lib/python/site-packages (from importlib-resources>=3.2.0->matplotlib->mediapipe==0.9.3.0) (3.18.1)\n",
      "Requirement already satisfied: six>=1.5 in /Applications/Xcode.app/Contents/Developer/Library/Frameworks/Python3.framework/Versions/3.9/lib/python3.9/site-packages (from python-dateutil>=2.7->matplotlib->mediapipe==0.9.3.0) (1.15.0)\n",
      "Downloading mediapipe-0.9.3.0-cp39-cp39-macosx_12_0_universal2.whl (53.3 MB)\n",
      "\u001b[2K   \u001b[90m━━━━━━━━━━━━━━━━━━━━━━━━━━━━━━━━━━━━━━━━\u001b[0m \u001b[32m53.3/53.3 MB\u001b[0m \u001b[31m1.1 MB/s\u001b[0m eta \u001b[36m0:00:00\u001b[0m00:01\u001b[0m0m00:02\u001b[0m\n",
      "\u001b[?25hInstalling collected packages: mediapipe\n",
      "Successfully installed mediapipe-0.9.3.0\n",
      "Note: you may need to restart the kernel to use updated packages.\n"
     ]
    }
   ],
   "source": [
    "pip install mediapipe==0.9.3.0\n"
   ]
  },
  {
   "cell_type": "code",
   "execution_count": 42,
   "metadata": {},
   "outputs": [],
   "source": [
    "import cv2"
   ]
  },
  {
   "cell_type": "code",
   "execution_count": 44,
   "metadata": {},
   "outputs": [
    {
     "ename": "AttributeError",
     "evalue": "module 'cv2' has no attribute 'VideoCapture'",
     "output_type": "error",
     "traceback": [
      "\u001b[0;31m---------------------------------------------------------------------------\u001b[0m",
      "\u001b[0;31mAttributeError\u001b[0m                            Traceback (most recent call last)",
      "Cell \u001b[0;32mIn[44], line 1\u001b[0m\n\u001b[0;32m----> 1\u001b[0m cap \u001b[38;5;241m=\u001b[39m \u001b[43mcv2\u001b[49m\u001b[38;5;241;43m.\u001b[39;49m\u001b[43mVideoCapture\u001b[49m(\u001b[38;5;124m'\u001b[39m\u001b[38;5;124mPoseVideos/1.mp4\u001b[39m\u001b[38;5;124m'\u001b[39m)\n",
      "\u001b[0;31mAttributeError\u001b[0m: module 'cv2' has no attribute 'VideoCapture'"
     ]
    }
   ],
   "source": [
    "cap = cv2.VideoCapture('PoseVideos/1.mp4')"
   ]
  },
  {
   "cell_type": "code",
   "execution_count": 46,
   "metadata": {},
   "outputs": [
    {
     "ename": "AttributeError",
     "evalue": "module 'cv2' has no attribute 'data'",
     "output_type": "error",
     "traceback": [
      "\u001b[0;31m---------------------------------------------------------------------------\u001b[0m",
      "\u001b[0;31mAttributeError\u001b[0m                            Traceback (most recent call last)",
      "Cell \u001b[0;32mIn[46], line 1\u001b[0m\n\u001b[0;32m----> 1\u001b[0m \u001b[43mcv2\u001b[49m\u001b[38;5;241;43m.\u001b[39;49m\u001b[43mdata\u001b[49m\u001b[38;5;241m.\u001b[39mhaarcascades\n",
      "\u001b[0;31mAttributeError\u001b[0m: module 'cv2' has no attribute 'data'"
     ]
    }
   ],
   "source": [
    "cv2.data.haarcascades"
   ]
  },
  {
   "cell_type": "code",
   "execution_count": 47,
   "metadata": {},
   "outputs": [],
   "source": [
    "import numpy as np"
   ]
  },
  {
   "cell_type": "code",
   "execution_count": 2,
   "metadata": {},
   "outputs": [],
   "source": [
    "from flask import Flask,render_template,Response\n"
   ]
  },
  {
   "cell_type": "code",
   "execution_count": 1,
   "metadata": {},
   "outputs": [],
   "source": [
    "import flask"
   ]
  },
  {
   "cell_type": "code",
   "execution_count": null,
   "metadata": {},
   "outputs": [],
   "source": []
  }
 ],
 "metadata": {
  "kernelspec": {
   "display_name": "Python 3",
   "language": "python",
   "name": "python3"
  },
  "language_info": {
   "codemirror_mode": {
    "name": "ipython",
    "version": 3
   },
   "file_extension": ".py",
   "mimetype": "text/x-python",
   "name": "python",
   "nbconvert_exporter": "python",
   "pygments_lexer": "ipython3",
   "version": "3.9.6"
  }
 },
 "nbformat": 4,
 "nbformat_minor": 2
}
